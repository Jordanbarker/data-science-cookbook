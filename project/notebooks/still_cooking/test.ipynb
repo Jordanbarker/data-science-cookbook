{
 "cells": [
  {
   "cell_type": "code",
   "execution_count": null,
   "metadata": {},
   "outputs": [],
   "source": [
    "# echo.py\n",
    "from mcp.server.fastmcp import FastMCP\n",
    "from pydantic import Field\n",
    "\n",
    "# Create server\n",
    "mcp = FastMCP(\"Echo Server\")\n",
    "\n",
    "\n",
    "@mcp.tool()\n",
    "def echo_tool(text: str = Field(description=\"The text to echo\")) -> str:\n",
    "    \"\"\"Echo the input text\n",
    "\n",
    "    Args:\n",
    "        text (str): The text to echo\n",
    "\n",
    "    Returns:\n",
    "        str: The echoed text\n",
    "    \"\"\"\n",
    "    return text\n",
    "\n",
    "mcp.run()"
   ]
  },
  {
   "cell_type": "markdown",
   "metadata": {},
   "source": [
    "## MCPAdapt \n",
    "https://grll.github.io/mcpadapt/guide/smolagents/\n",
    "- pip install smolagents[mcp]\n",
    "- pip install smolagents[mlx-lm]"
   ]
  },
  {
   "cell_type": "markdown",
   "metadata": {},
   "source": [
    "how to interact with the server:"
   ]
  },
  {
   "cell_type": "markdown",
   "metadata": {},
   "source": []
  },
  {
   "cell_type": "code",
   "execution_count": null,
   "metadata": {},
   "outputs": [],
   "source": [
    "from mcp import StdioServerParameters\n",
    "from smolagents import CodeAgent, MLXModel\n",
    "from smolagents.tools import ToolCollection\n",
    "\n",
    "model = MLXModel(\n",
    "    model_id=\"mlx-community/Qwen2.5-Coder-32B-Instruct-4bit\",\n",
    "    max_tokens=10000,\n",
    ")\n",
    "\n",
    "server_params = StdioServerParameters(command=\"uv\", args=[\"run\", \"echo.py\"])\n",
    "\n",
    "with ToolCollection.from_mcp(server_params) as tools:\n",
    "    agent = CodeAgent(tools=tools, model=model)\n",
    "    agent.run(\"Can you echo something?\")"
   ]
  },
  {
   "cell_type": "markdown",
   "metadata": {},
   "source": [
    "[HF Agents](https://huggingface.co/docs/smolagents/en/guided_tour#agents---guided-tour)\n",
    "- MLXModel creates a mlx-lm pipeline to run inference on your local machine.\n",
    "-  [HfApiModel](https://huggingface.co/docs/smolagents/v1.13.0/en/reference/models#smolagents.HfApiModel)(model_id: str = 'Qwen/Qwen2.5-Coder-32B-Instruct')"
   ]
  }
 ],
 "metadata": {
  "language_info": {
   "name": "python"
  }
 },
 "nbformat": 4,
 "nbformat_minor": 2
}
